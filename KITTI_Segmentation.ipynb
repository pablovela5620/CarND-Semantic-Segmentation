{
 "cells": [
  {
   "cell_type": "code",
   "execution_count": 1,
   "metadata": {},
   "outputs": [],
   "source": [
    "import os\n",
    "import scipy\n",
    "import helper\n",
    "import warnings\n",
    "import matplotlib.pyplot as plt\n",
    "import tensorflow as tf\n",
    "from tqdm import tqdm\n",
    "from distutils.version import LooseVersion"
   ]
  },
  {
   "cell_type": "code",
   "execution_count": 2,
   "metadata": {},
   "outputs": [],
   "source": [
    "L2_REG = 1e-6\n",
    "STDEV = 1e-3\n",
    "KEEP_PROB = 0.75\n",
    "LEARNING_RATE = 1e-4\n",
    "EPOCHS = 100\n",
    "BATCH_SIZE = 16\n",
    "IMAGE_SHAPE = (156, 512)\n",
    "NUM_CLASSES = 2\n",
    "\n",
    "DATA_DIR = './data/'\n",
    "RUNS_DIR = './runs/'\n",
    "VGG_DIR = './data/vgg/'\n",
    "MODEL_DIR = './data/trained_model/road.ckpt'"
   ]
  },
  {
   "cell_type": "code",
   "execution_count": 3,
   "metadata": {},
   "outputs": [],
   "source": [
    "def load_vgg(sess, vgg_path):\n",
    "    \"\"\"\n",
    "    Load Pretrained VGG Model into TensorFlow.\n",
    "\n",
    "    :param sess: TensorFlow Session\n",
    "    :param vgg_path: Path to vgg folder, containing \"variables/\" and \"saved_model.pb\"\n",
    "    :return: Tuple of Tensors from VGG model (image_input, keep_prob, layer3_out, layer4_out, layer7_out)\n",
    "    \"\"\"\n",
    "    # Loads model and weights\n",
    "    tf.saved_model.loader.load(sess, ['vgg16'], vgg_path)\n",
    "    graph = tf.get_default_graph()\n",
    "    input_image = graph.get_tensor_by_name('image_input:0')\n",
    "    keep_prob = graph.get_tensor_by_name('keep_prob:0')\n",
    "    vgg_layer3_out = graph.get_tensor_by_name('layer3_out:0')\n",
    "    vgg_layer4_out = graph.get_tensor_by_name('layer4_out:0')\n",
    "    vgg_layer7_out = graph.get_tensor_by_name('layer7_out:0')\n",
    "\n",
    "    return input_image, keep_prob, vgg_layer3_out, vgg_layer4_out, vgg_layer7_out"
   ]
  },
  {
   "cell_type": "code",
   "execution_count": 4,
   "metadata": {},
   "outputs": [],
   "source": [
    "def conv_1x1(layer, layer_name):\n",
    "    return tf.layers.conv2d(inputs=layer, \n",
    "                            filters=NUM_CLASSES, \n",
    "                            kernel_size=(1, 1), \n",
    "                            padding='same',\n",
    "                            kernel_initializer=tf.truncated_normal_initializer(stddev=STDEV),\n",
    "                            kernel_regularizer=tf.contrib.layers.l2_regularizer(L2_REG), \n",
    "                            name=layer_name)"
   ]
  },
  {
   "cell_type": "code",
   "execution_count": 5,
   "metadata": {},
   "outputs": [],
   "source": [
    "def upsample(layer, k, s, layer_name):\n",
    "  \"\"\" Return the output of transpose convolution given kernel_size k and strides s \"\"\"\n",
    "  return tf.layers.conv2d_transpose(inputs=layer,\n",
    "                                    filters=NUM_CLASSES, \n",
    "                                    kernel_size=(k, k), \n",
    "                                    strides=(s, s),\n",
    "                                    padding='same',\n",
    "                                    kernel_initializer=tf.truncated_normal_initializer(stddev=STDEV),\n",
    "                                    kernel_regularizer=tf.contrib.layers.l2_regularizer(L2_REG),\n",
    "                                    name=layer_name)"
   ]
  },
  {
   "cell_type": "code",
   "execution_count": 6,
   "metadata": {},
   "outputs": [],
   "source": [
    "def layers(vgg_layer3_out, vgg_layer4_out, vgg_layer7_out, num_classes= NUM_CLASSES):\n",
    "    \"\"\"\n",
    "    Create the layers for a fully convolutional network.  Build skip-layers using the vgg layers.\n",
    "    :param vgg_layer7_out: TF Tensor for VGG Layer 3 output\n",
    "    :param vgg_layer4_out: TF Tensor for VGG Layer 4 output\n",
    "    :param vgg_layer3_out: TF Tensor for VGG Layer 7 output\n",
    "    :param num_classes: Number of classes to classify\n",
    "    :return: The Tensor for the last layer of output\n",
    "    \"\"\"\n",
    "    # layer 7 1x1 convolution\n",
    "    layer7_1x1 = conv_1x1(layer=vgg_layer7_out,layer_name='layer7_1x1')\n",
    "\n",
    "    # upsample 1\n",
    "    output_1 = upsample(layer=layer7_1x1, k=4, s=2, layer_name='upsample_1') \n",
    "\n",
    "    # layer 4 1x1 convolution\n",
    "    layer4_1x1 = conv_1x1(layer=vgg_layer4_out,layer_name='layer4_1x1')\n",
    "\n",
    "    # Skip layer\n",
    "    skip_layer_1 = tf.add(output_1, layer4_1x1, name='skip_layer_1')\n",
    "\n",
    "    # upsample 2\n",
    "    output_2 = upsample(layer=skip_layer_1, k=4, s=2, layer_name='output_2')\n",
    "\n",
    "    # layer 3 1x1 convolution\n",
    "    layer3_1x1 = conv_1x1(layer=vgg_layer3_out,layer_name='layer3_1x1')\n",
    "\n",
    "    # Skip layer\n",
    "    skip_layer_2 = tf.add(output_2, layer3_1x1, name='skip_layer_2')\n",
    "\n",
    "    # upsample 3\n",
    "    last_layer = upsample(layer=skip_layer_2, k=16, s=8, layer_name='last_layer')\n",
    "\n",
    "    return last_layer"
   ]
  },
  {
   "cell_type": "code",
   "execution_count": 7,
   "metadata": {},
   "outputs": [],
   "source": [
    "def optimize(nn_last_layer, correct_label, learning_rate, num_classes=NUM_CLASSES):\n",
    "    \"\"\"\n",
    "    Build the TensorFLow loss and optimizer operations.\n",
    "    :param nn_last_layer: TF Tensor of the last layer in the neural network\n",
    "    :param correct_label: TF Placeholder for the correct label image\n",
    "    :param learning_rate: TF Placeholder for the learning rate\n",
    "    :param num_classes: Number of classes to classify\n",
    "    :return: Tuple of (logits, train_op, cross_entropy_loss)\n",
    "    \"\"\"\n",
    "    # Convert 4D output tensor from last layer to 2D logits\n",
    "    logits = tf.reshape(nn_last_layer, (-1, num_classes))\n",
    "    correct_label = tf.reshape(correct_label, (-1, num_classes))\n",
    "\n",
    "    # Standard cross entropy for binary classification using logtis from above\n",
    "    cross_entropy = tf.nn.softmax_cross_entropy_with_logits_v2(logits=logits, labels=correct_label)\n",
    "    cross_entropy_loss = tf.reduce_mean(cross_entropy)\n",
    "\n",
    "    # Adam optimizer with custom learning rate minimizing the cross entropy loss function\n",
    "    optimizer = tf.train.AdamOptimizer(learning_rate=learning_rate)\n",
    "    train_op = optimizer.minimize(cross_entropy_loss)\n",
    "\n",
    "    return logits, train_op, cross_entropy_loss"
   ]
  },
  {
   "cell_type": "code",
   "execution_count": 8,
   "metadata": {},
   "outputs": [],
   "source": [
    "def train_nn(sess, epochs, batch_size, total_batches, get_batches_fn, train_op, cross_entropy_loss, input_image,\n",
    "             correct_label, keep_prob, learning_rate):\n",
    "    \"\"\"\n",
    "    Train neural network and print out the loss during training.\n",
    "    :param sess: TF Session\n",
    "    :param epochs: Number of epochs\n",
    "    :param batch_size: Batch size\n",
    "    :param get_batches_fn: Function to get batches of training data.  Call using get_batches_fn(batch_size)\n",
    "    :param train_op: TF Operation to train the neural network\n",
    "    :param cross_entropy_loss: TF Tensor for the amount of loss\n",
    "    :param input_image: TF Placeholder for input images\n",
    "    :param correct_label: TF Placeholder for label images\n",
    "    :param keep_prob: TF Placeholder for dropout keep probability\n",
    "    :param learning_rate: TF Placeholder for learning rate\n",
    "    \"\"\"\n",
    "\n",
    "    print('Starting Training, Number of Epochs {}'.format(epochs))\n",
    "    # Initialize session variables\n",
    "    sess.run(tf.global_variables_initializer())\n",
    "\n",
    "    for epoch in range(1, epochs+1):\n",
    "        total_loss = 0\n",
    "        progress_bar = tqdm(range(total_batches))\n",
    "        for i in progress_bar:\n",
    "            # Training\n",
    "            image, label = next(get_batches_fn(batch_size))\n",
    "            _, loss = sess.run([train_op, cross_entropy_loss],\n",
    "                               feed_dict={input_image: image, correct_label: label,\n",
    "                                          keep_prob: KEEP_PROB, learning_rate: LEARNING_RATE})\n",
    "            total_loss += loss\n",
    "            progress_bar.set_description('Epoch: {}/{} | Loss: {:4.4f}'.format(epoch, epochs, total_loss))"
   ]
  },
  {
   "cell_type": "code",
   "execution_count": 9,
   "metadata": {},
   "outputs": [],
   "source": [
    "def run():\n",
    "    image_shape = (160, 576)\n",
    "    \n",
    "    helper.maybe_download_pretrained_vgg(DATA_DIR)\n",
    "\n",
    "    tf.reset_default_graph()\n",
    "    with tf.Session() as sess:\n",
    "        # Create function to get batches\n",
    "        get_batches_fn = helper.gen_batch_function(data_folder='./data/data_road/training/', image_shape=image_shape)\n",
    "\n",
    "        # Build NN using load_vgg, layers, and optimize function\n",
    "        input_image, keep_prob, vgg_layer3_out, vgg_layer4_out, vgg_layer7_out = load_vgg(sess, VGG_DIR)\n",
    "\n",
    "        last_layer = layers(vgg_layer3_out, vgg_layer4_out, vgg_layer7_out)\n",
    "\n",
    "        correct_label = tf.placeholder(tf.float32, [None, None, None, NUM_CLASSES], name='correct_label')\n",
    "        learning_rate = tf.placeholder(tf.float32, name='learning_rate')\n",
    "\n",
    "        logits, train_op, cross_entropy_loss = optimize(last_layer, correct_label, learning_rate)\n",
    "\n",
    "        # Train NN using the train_nn function\n",
    "        print('Model Built')\n",
    "        total_batches = len(os.listdir('./data/data_road/training/image_2/'))//BATCH_SIZE\n",
    "        train_nn(sess, EPOCHS, BATCH_SIZE, total_batches, get_batches_fn, train_op, cross_entropy_loss, input_image,\n",
    "                 correct_label, keep_prob, learning_rate)\n",
    "        \n",
    "        # Save Model\n",
    "        saver = tf.train.Saver()\n",
    "        save_path = saver.save(sess, MODEL_DIR)\n",
    "\n",
    "        # TODO: Save inference data using helper.save_inference_samples\n",
    "#         helper.save_inference_samples(RUNS_DIR, DATA_DIR, sess, image_shape, logits, keep_prob, input_image)\n",
    "\n",
    "        # OPTIONAL: Apply the trained model to a video"
   ]
  },
  {
   "cell_type": "code",
   "execution_count": 10,
   "metadata": {},
   "outputs": [],
   "source": [
    "def predict_images():\n",
    "    image_shape = (160, 576)\n",
    "    \n",
    "    tf.reset_default_graph()\n",
    "    with tf.Session() as sess:\n",
    "        input_image, keep_prob, vgg_layer3_out, vgg_layer4_out, vgg_layer7_out = load_vgg(sess, VGG_DIR)\n",
    "        last_layer = layers(vgg_layer3_out, vgg_layer4_out, vgg_layer7_out)\n",
    "        logits = tf.reshape(last_layer, (-1, NUM_CLASSES))\n",
    "        # Restore saved model\n",
    "        saver = tf.train.Saver()\n",
    "        saver.restore(sess, MODEL_DIR)\n",
    "\n",
    "        helper.save_inference_samples(RUNS_DIR, DATA_DIR, sess, image_shape, logits, keep_prob, input_image)"
   ]
  },
  {
   "cell_type": "code",
   "execution_count": 20,
   "metadata": {},
   "outputs": [],
   "source": [
    "def predict_single_image(image_dir):\n",
    "    image_shape = (160, 576)\n",
    "    \n",
    "    image = scipy.misc.imresize(scipy.misc.imread(image_dir), image_shape)\n",
    "    \n",
    "    tf.reset_default_graph()\n",
    "    sess = tf.Session()\n",
    "    \n",
    "    input_image, keep_prob, vgg_layer3_out, vgg_layer4_out, vgg_layer7_out = load_vgg(sess, VGG_DIR)\n",
    "    last_layer = layers(vgg_layer3_out, vgg_layer4_out, vgg_layer7_out)\n",
    "    logits = tf.reshape(last_layer, (-1, NUM_CLASSES))\n",
    "    \n",
    "    saver = tf.train.Saver()\n",
    "    saver.restore(sess, MODEL_DIR)\n",
    "    \n",
    "    im_softmax = sess.run([tf.nn.softmax(logits)], {keep_prob: 1.0, image_pl: [image]})\n",
    "    \n",
    "    im_softmax = im_softmax[0][:, 1].reshape(image_shape[0], image_shape[1])\n",
    "    segmentation = (im_softmax > 0.5).reshape(image_shape[0], image_shape[1], 1)\n",
    "    mask = np.dot(segmentation, np.array([[0, 255, 0, 127]]))\n",
    "    mask = scipy.misc.toimage(mask, mode=\"RGBA\")\n",
    "    street_im = scipy.misc.toimage(image)\n",
    "    street_im.paste(mask, box=None, mask=mask)\n",
    "    \n",
    "    plt.imshow(street_im)"
   ]
  },
  {
   "cell_type": "code",
   "execution_count": 21,
   "metadata": {},
   "outputs": [],
   "source": [
    "# run()\n",
    "# predict_images()"
   ]
  },
  {
   "cell_type": "code",
   "execution_count": 22,
   "metadata": {},
   "outputs": [
    {
     "name": "stderr",
     "output_type": "stream",
     "text": [
      "/home/pablo/miniconda3/envs/tf18/lib/python3.6/site-packages/ipykernel_launcher.py:4: DeprecationWarning: `imread` is deprecated!\n",
      "`imread` is deprecated in SciPy 1.0.0, and will be removed in 1.2.0.\n",
      "Use ``imageio.imread`` instead.\n",
      "  after removing the cwd from sys.path.\n",
      "/home/pablo/miniconda3/envs/tf18/lib/python3.6/site-packages/ipykernel_launcher.py:4: DeprecationWarning: `imresize` is deprecated!\n",
      "`imresize` is deprecated in SciPy 1.0.0, and will be removed in 1.2.0.\n",
      "Use ``skimage.transform.resize`` instead.\n",
      "  after removing the cwd from sys.path.\n"
     ]
    },
    {
     "name": "stdout",
     "output_type": "stream",
     "text": [
      "INFO:tensorflow:Restoring parameters from b'./data/vgg/variables/variables'\n",
      "INFO:tensorflow:Restoring parameters from ./data/trained_model/road.ckpt\n"
     ]
    },
    {
     "ename": "NameError",
     "evalue": "name 'image_pl' is not defined",
     "output_type": "error",
     "traceback": [
      "\u001b[0;31m---------------------------------------------------------------------------\u001b[0m",
      "\u001b[0;31mNameError\u001b[0m                                 Traceback (most recent call last)",
      "\u001b[0;32m<ipython-input-22-1ca11e578e4e>\u001b[0m in \u001b[0;36m<module>\u001b[0;34m()\u001b[0m\n\u001b[1;32m      1\u001b[0m \u001b[0mimage_dir\u001b[0m \u001b[0;34m=\u001b[0m \u001b[0;34m'data/data_road/testing/image_2/um_000016.png'\u001b[0m\u001b[0;34m\u001b[0m\u001b[0m\n\u001b[0;32m----> 2\u001b[0;31m \u001b[0mpredict_single_image\u001b[0m\u001b[0;34m(\u001b[0m\u001b[0mimage_dir\u001b[0m\u001b[0;34m)\u001b[0m\u001b[0;34m\u001b[0m\u001b[0m\n\u001b[0m",
      "\u001b[0;32m<ipython-input-20-cffac69438fa>\u001b[0m in \u001b[0;36mpredict_single_image\u001b[0;34m(image_dir)\u001b[0m\n\u001b[1;32m     14\u001b[0m     \u001b[0msaver\u001b[0m\u001b[0;34m.\u001b[0m\u001b[0mrestore\u001b[0m\u001b[0;34m(\u001b[0m\u001b[0msess\u001b[0m\u001b[0;34m,\u001b[0m \u001b[0mMODEL_DIR\u001b[0m\u001b[0;34m)\u001b[0m\u001b[0;34m\u001b[0m\u001b[0m\n\u001b[1;32m     15\u001b[0m \u001b[0;34m\u001b[0m\u001b[0m\n\u001b[0;32m---> 16\u001b[0;31m     \u001b[0mim_softmax\u001b[0m \u001b[0;34m=\u001b[0m \u001b[0msess\u001b[0m\u001b[0;34m.\u001b[0m\u001b[0mrun\u001b[0m\u001b[0;34m(\u001b[0m\u001b[0;34m[\u001b[0m\u001b[0mtf\u001b[0m\u001b[0;34m.\u001b[0m\u001b[0mnn\u001b[0m\u001b[0;34m.\u001b[0m\u001b[0msoftmax\u001b[0m\u001b[0;34m(\u001b[0m\u001b[0mlogits\u001b[0m\u001b[0;34m)\u001b[0m\u001b[0;34m]\u001b[0m\u001b[0;34m,\u001b[0m \u001b[0;34m{\u001b[0m\u001b[0mkeep_prob\u001b[0m\u001b[0;34m:\u001b[0m \u001b[0;36m1.0\u001b[0m\u001b[0;34m,\u001b[0m \u001b[0mimage_pl\u001b[0m\u001b[0;34m:\u001b[0m \u001b[0;34m[\u001b[0m\u001b[0mimage\u001b[0m\u001b[0;34m]\u001b[0m\u001b[0;34m}\u001b[0m\u001b[0;34m)\u001b[0m\u001b[0;34m\u001b[0m\u001b[0m\n\u001b[0m\u001b[1;32m     17\u001b[0m \u001b[0;34m\u001b[0m\u001b[0m\n\u001b[1;32m     18\u001b[0m     \u001b[0mim_softmax\u001b[0m \u001b[0;34m=\u001b[0m \u001b[0mim_softmax\u001b[0m\u001b[0;34m[\u001b[0m\u001b[0;36m0\u001b[0m\u001b[0;34m]\u001b[0m\u001b[0;34m[\u001b[0m\u001b[0;34m:\u001b[0m\u001b[0;34m,\u001b[0m \u001b[0;36m1\u001b[0m\u001b[0;34m]\u001b[0m\u001b[0;34m.\u001b[0m\u001b[0mreshape\u001b[0m\u001b[0;34m(\u001b[0m\u001b[0mimage_shape\u001b[0m\u001b[0;34m[\u001b[0m\u001b[0;36m0\u001b[0m\u001b[0;34m]\u001b[0m\u001b[0;34m,\u001b[0m \u001b[0mimage_shape\u001b[0m\u001b[0;34m[\u001b[0m\u001b[0;36m1\u001b[0m\u001b[0;34m]\u001b[0m\u001b[0;34m)\u001b[0m\u001b[0;34m\u001b[0m\u001b[0m\n",
      "\u001b[0;31mNameError\u001b[0m: name 'image_pl' is not defined"
     ]
    }
   ],
   "source": [
    "image_dir = 'data/data_road/testing/image_2/um_000016.png'\n",
    "predict_single_image(image_dir)"
   ]
  },
  {
   "cell_type": "code",
   "execution_count": null,
   "metadata": {},
   "outputs": [],
   "source": []
  }
 ],
 "metadata": {
  "kernelspec": {
   "display_name": "Python 3",
   "language": "python",
   "name": "python3"
  },
  "language_info": {
   "codemirror_mode": {
    "name": "ipython",
    "version": 3
   },
   "file_extension": ".py",
   "mimetype": "text/x-python",
   "name": "python",
   "nbconvert_exporter": "python",
   "pygments_lexer": "ipython3",
   "version": "3.6.5"
  }
 },
 "nbformat": 4,
 "nbformat_minor": 2
}
